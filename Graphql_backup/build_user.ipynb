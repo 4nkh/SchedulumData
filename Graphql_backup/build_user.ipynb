{
 "cells": [
  {
   "cell_type": "markdown",
   "id": "a069f70f",
   "metadata": {},
   "source": [
    "### BUILD AGENDA USERS"
   ]
  },
  {
   "cell_type": "code",
   "execution_count": 11,
   "id": "47932aa4",
   "metadata": {},
   "outputs": [
    {
     "name": "stdout",
     "output_type": "stream",
     "text": [
      "✅ Fichier 'AgendaUser-batch.json' généré avec succès.\n"
     ]
    }
   ],
   "source": [
    "import json\n",
    "from copy import deepcopy\n",
    "\n",
    "# Base user structure\n",
    "base_user = {\n",
    "    \"__typename\": {\"S\": \"AgendaUser\"},\n",
    "    \"night\": {\"BOOL\": False},\n",
    "    \"thursday\": {\"BOOL\": False},\n",
    "    \"suspended\": {\"BOOL\": False},\n",
    "    \"lastName\": {\"S\": \"\"},\n",
    "    \"comId\": {\"S\": \"ComApp-7cefd79f-b56e-4310-b33b-913159d608a5\"},\n",
    "    \"monday\": {\"BOOL\": False},\n",
    "    \"createdAt\": {\"S\": \"2025-01-18T13:57:24.201Z\"},\n",
    "    \"email\": {\"S\": \"\"},\n",
    "    \"friday\": {\"BOOL\": False},\n",
    "    \"tuesday\": {\"BOOL\": False},\n",
    "    \"wednesday\": {\"BOOL\": False},\n",
    "    \"firstName\": {\"S\": \"\"},\n",
    "    \"language\": {\"S\": \"en\"},\n",
    "    \"sunday\": {\"BOOL\": False},\n",
    "    \"updatedAt\": {\"S\": \"2025-01-18T13:57:24.201Z\"},\n",
    "    \"userId\": {\"S\": \"\"},\n",
    "    \"timezone\": {\"S\": \"5\"},\n",
    "    \"saturday\": {\"BOOL\": False},\n",
    "    \"username\": {\"S\": \"\"},\n",
    "    \"profileOwner\": {\"S\": \"\"},\n",
    "    \"FCMtoken\": {\"S\": \"\"},\n",
    "    \"readedAt\": {\"S\": \"2025-01-18T13:57:23.713Z\"},\n",
    "    \"type\": {\"S\": \"EMPLOYEE\"}\n",
    "}\n",
    "\n",
    "agenda_users = []\n",
    "\n",
    "# Génère les utilisateurs de 11 à 20\n",
    "for i in range(76, 101):\n",
    "    user = deepcopy(base_user)\n",
    "    num = str(i)\n",
    "    user[\"lastName\"][\"S\"] = f\"User Test{num}\"\n",
    "    user[\"firstName\"][\"S\"] = f\"User Test{num}\"\n",
    "    user[\"username\"][\"S\"] = f\"User Test{num}\"\n",
    "    user[\"email\"][\"S\"] = f\"user_test{num}@schedulum.org\"\n",
    "    \n",
    "    # Correction : retirer un 'z' pour passer de zzzzz → zzzz\n",
    "    base_id = \"11146834e8-20c1-7033-8bcc-0cabed5z\" + num\n",
    "    user[\"userId\"][\"S\"] = base_id\n",
    "    user[\"profileOwner\"][\"S\"] = f\"11146834e8-20c1-7033-8bcc-0cabed5zz::{base_id}\"\n",
    "    \n",
    "    # agenda_users.append(user)\n",
    "    agenda_users.append({\n",
    "        \"PutRequest\": {\n",
    "            \"Item\": user\n",
    "        }\n",
    "    })\n",
    "\n",
    "# Structure pour batch-write-item AWS\n",
    "output = {\n",
    "    \"AgendaUser-vchnedpkxrd6jmrsdikyk6vebi-NONE\": agenda_users\n",
    "}\n",
    "\n",
    "with open(\"Data/sandbox-AgendaUser-batch.json\", \"w\") as f:\n",
    "    json.dump(output, f, indent=2)\n",
    "\n",
    "print(\"✅ Fichier 'AgendaUser-batch.json' généré avec succès.\")\n",
    "\n",
    "# Affichage JSON\n",
    "# print(\"{ \\\"Items\\\": \")\n",
    "# print(json.dumps(agenda_users, indent=2))\n",
    "# print(\"}\")\n"
   ]
  }
 ],
 "metadata": {
  "kernelspec": {
   "display_name": "web_env",
   "language": "python",
   "name": "python3"
  },
  "language_info": {
   "codemirror_mode": {
    "name": "ipython",
    "version": 3
   },
   "file_extension": ".py",
   "mimetype": "text/x-python",
   "name": "python",
   "nbconvert_exporter": "python",
   "pygments_lexer": "ipython3",
   "version": "3.12.9"
  }
 },
 "nbformat": 4,
 "nbformat_minor": 5
}
